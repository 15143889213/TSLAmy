{
 "cells": [
  {
   "cell_type": "code",
   "execution_count": null,
   "id": "initial_id",
   "metadata": {
    "collapsed": true
   },
   "outputs": [],
   "source": [
    "import torch\n",
    "import esm\n",
    "import collections\n",
    "import pandas as pd\n",
    "import numpy as np\n",
    "\n",
    "def esm_embeddings(peptide_sequence_list, flag):\n",
    "    model, alphabet = esm.pretrained.esm2_t6_8M_UR50D()\n",
    "    batch_converter = alphabet.get_batch_converter()\n",
    "    model.eval()\n",
    "    if flag == 1:\n",
    "        print(model)\n",
    "    labels, strs, tokens = batch_converter(peptide_sequence_list)\n",
    "    lens = (tokens != alphabet.padding_idx).sum(1)\n",
    "    with torch.no_grad():\n",
    "        results = model(tokens, repr_layers=[6], return_contacts=True)\n",
    "    token_representations = results[\"representations\"][6]\n",
    "    sequence_representations = []\n",
    "    for i, tokens_len in enumerate(lens):\n",
    "        sequence_representations.append(token_representations[i, 1 : tokens_len - 1].mean(0))\n",
    "    embeddings = collections.defaultdict(list)\n",
    "    for i in range(len(sequence_representations)):\n",
    "        seq_rep = sequence_representations[i].tolist()\n",
    "        for rep in seq_rep:\n",
    "            embeddings[i].append(rep)\n",
    "    embeddings = pd.DataFrame(embeddings).T\n",
    "    return embeddings"
   ]
  },
  {
   "cell_type": "code",
   "execution_count": null,
   "outputs": [],
   "source": [
    "dataset = pd.read_csv('./train.csv',na_filter = False)\n",
    "# dataset = pd.read_csv('./test.csv',na_filter = False)\n",
    "sequence = dataset['Sequence']\n",
    "results = pd.DataFrame()\n",
    "flag = 1\n",
    "for seq in sequence:\n",
    "    format_seq = [seq,seq]\n",
    "    tuple_sequence = tuple(format_seq)\n",
    "    sequence_list = []\n",
    "    sequence_list.append(tuple_sequence)\n",
    "    seq_embedding = esm_embeddings(sequence_list, flag)\n",
    "    flag += 1\n",
    "    results = pd.concat([results,seq_embedding])\n",
    "\n",
    "results.to_csv('./sequence_train_dense_output.csv')\n",
    "# results.to_csv('./sequence_test_dense_output.csv')"
   ],
   "metadata": {
    "collapsed": false
   },
   "id": "76f7704f5483039d"
  }
 ],
 "metadata": {
  "kernelspec": {
   "display_name": "Python 3",
   "language": "python",
   "name": "python3"
  },
  "language_info": {
   "codemirror_mode": {
    "name": "ipython",
    "version": 2
   },
   "file_extension": ".py",
   "mimetype": "text/x-python",
   "name": "python",
   "nbconvert_exporter": "python",
   "pygments_lexer": "ipython2",
   "version": "2.7.6"
  }
 },
 "nbformat": 4,
 "nbformat_minor": 5
}
