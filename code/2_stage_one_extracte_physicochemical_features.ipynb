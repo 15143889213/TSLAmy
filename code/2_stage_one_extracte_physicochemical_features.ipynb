{
 "cells": [
  {
   "cell_type": "code",
   "execution_count": null,
   "id": "initial_id",
   "metadata": {
    "collapsed": true
   },
   "outputs": [],
   "source": [
    "import numpy as np\n",
    "import pandas as pd\n",
    "\n",
    "amino_acids_single_letter = ['C', 'D', 'S', 'Q', 'K', 'I', 'P', 'T', 'F', 'N', 'G', 'H', 'L', 'R', 'W', 'A', 'V', 'E', 'Y', 'M']\n",
    "alpha = [0.74, 0.89, 0.82, 1.29, 1.11, 1.04, 0.5, 0.76, 1.01, 0.77, 0.47, 0.92, 1.32, 5.03, 1.06, 1.39, 0.89, 1.35, 0.99, 1.21]\n",
    "beta = [1.31, 0.55, 0.85, 0.76, 0.83, 1.71, 0.44, 1.23, 1.43, 0.62, 0.65, 0.99, 1.1, 0.91, 1.3, 0.75, 1.86, 0.72, 1.5, 0.99]\n",
    "coil = [1.05, 1.33, 1.24, 0.89, 1, 0.59, 1.72, 1.07, 0.76, 1.39, 1.62, 1.07, 0.68, 0.91, 0.79, 0.8, 0.64, 1.33, 0.78, 0.83]\n",
    "hb_d = [0.769, 0.511, 0.56, 0.675, 0.662, 0.834, 0, 0.597, 0.764, 0.587, 0.619, 0.662, 0.836, 0.698, 0.719, 0.726, 0.798, 0.574, 0.749, 0.77]\n",
    "hb_a = [0.705, 0.623, 0.595, 0.366, 0.6, 0.878, 0.477, 0.637, 0.724, 0.58, 0.502, 0.658, 0.745, 0.659, 0.733, 0.648, 0.77, 0.929, 0.731, 0.715]\n",
    "hi = [2.5, -3.5, -0.8, -3.5, -3.9, 4.5, -1.6, -0.7, 2.8, -3.5, -0.4, -3.2, 3.8, -4.5, -0.9, 1.8, 4.2, -3.5, -1.3, 1.9]\n",
    "PD = [23.99, 17.39, 18.35, 17.43, 17.72, 25.96, 17.53, 19.91, 27.42, 18.57, 17.18, 21.64, 25.53, 21.03, 28.53, 19.97, 24.05, 19.19, 26.17, 24.8]\n",
    "DM = [10.74, 29.49, 9.836, 39.89, 50.02, 3.371, 7.916, 9.304, 5.98, 18.89, 0, 20.44, 3.782, 37.5, 10.73, 5.937, 2.692, 42.52, 10.41, 8.589]\n",
    "\n",
    "train_df = pd.read_csv(r'./train.csv')\n",
    "# test_df = pd.read_csv(r'./test.csv')\n",
    "\n",
    "def one_hot_encode(seq):\n",
    "    amino_acids = 'CDSQKIPTFNGHLRWAVEYM'\n",
    "    aa_to_index = {aa: i for i, aa in enumerate(amino_acids)}\n",
    "    one_hot = np.zeros((len(seq), len(amino_acids)))\n",
    "    for i, aa in enumerate(seq):\n",
    "        one_hot[i, aa_to_index[aa]] = 1\n",
    "    return one_hot\n",
    "try:\n",
    "    train_df['OneHot'] = train_df['Sequence'].apply(one_hot_encode)\n",
    "except ValueError as e:\n",
    "    print(e)"
   ]
  },
  {
   "cell_type": "code",
   "execution_count": null,
   "outputs": [],
   "source": [
    "expanded_arrays = train_df['OneHot'].apply(lambda x: np.array(x))\n",
    "X_train = np.array(expanded_arrays.tolist())\n",
    "y_train = train_df['label']"
   ],
   "metadata": {
    "collapsed": false
   },
   "id": "cfbace172405ca5"
  },
  {
   "cell_type": "code",
   "execution_count": null,
   "outputs": [],
   "source": [
    "amino_acid_to_alpha = dict(zip(amino_acids_single_letter, alpha))\n",
    "amino_acid_to_beta = dict(zip(amino_acids_single_letter, beta))\n",
    "amino_acid_to_coil = dict(zip(amino_acids_single_letter, coil))\n",
    "amino_acid_to_hb_d = dict(zip(amino_acids_single_letter, hb_d))\n",
    "amino_acid_to_hb_a = dict(zip(amino_acids_single_letter, hb_a))\n",
    "amino_acid_to_hi = dict(zip(amino_acids_single_letter, hi))\n",
    "amino_acid_to_PD = dict(zip(amino_acids_single_letter, PD))\n",
    "amino_acid_to_DM = dict(zip(amino_acids_single_letter, DM))\n",
    "train_df['alpha'] = train_df['Sequence'].apply(lambda seq: [amino_acid_to_alpha[aa] for aa in seq])\n",
    "train_df['beta'] = train_df['Sequence'].apply(lambda seq: [amino_acid_to_beta[aa] for aa in seq])\n",
    "train_df['coil'] = train_df['Sequence'].apply(lambda seq: [amino_acid_to_coil[aa] for aa in seq])\n",
    "train_df['hb_d'] = train_df['Sequence'].apply(lambda seq: [amino_acid_to_hb_d[aa] for aa in seq])\n",
    "train_df['hb_a'] = train_df['Sequence'].apply(lambda seq: [amino_acid_to_hb_a[aa] for aa in seq])\n",
    "train_df['hi'] = train_df['Sequence'].apply(lambda seq: [amino_acid_to_hi[aa] for aa in seq])\n",
    "train_df['PD'] = train_df['Sequence'].apply(lambda seq: [amino_acid_to_PD[aa] for aa in seq])\n",
    "train_df['DM'] = train_df['Sequence'].apply(lambda seq: [amino_acid_to_DM[aa] for aa in seq])"
   ],
   "metadata": {
    "collapsed": false
   },
   "id": "cd737cc5e76184cc"
  },
  {
   "cell_type": "code",
   "execution_count": null,
   "outputs": [],
   "source": [
    "alpha_train = np.array(train_df['alpha'].tolist()).reshape(-1, 6, 1)\n",
    "beta_train = np.array(train_df['beta'].tolist()).reshape(-1, 6, 1)\n",
    "coil_train = np.array(train_df['coil'].tolist()).reshape(-1, 6, 1)\n",
    "hb_d_train = np.array(train_df['hb_d'].tolist()).reshape(-1, 6, 1)\n",
    "hb_a_train = np.array(train_df['hb_a'].tolist()).reshape(-1, 6, 1)\n",
    "hi_train = np.array(train_df['hi'].tolist()).reshape(-1, 6, 1)\n",
    "PD_train = np.array(train_df['PD'].tolist()).reshape(-1, 6, 1)\n",
    "DM_train = np.array(train_df['DM'].tolist()).reshape(-1, 6, 1)"
   ],
   "metadata": {
    "collapsed": false
   },
   "id": "66d39470bb1acc14"
  },
  {
   "cell_type": "code",
   "execution_count": null,
   "outputs": [],
   "source": [
    "X_train_feature = np.concatenate((alpha_train, beta_train, coil_train, hb_d_train, hb_a_train, hi_train, PD_train, DM_train), axis=2)"
   ],
   "metadata": {
    "collapsed": false
   },
   "id": "79c962e5e4a8b9c6"
  },
  {
   "cell_type": "code",
   "execution_count": null,
   "outputs": [],
   "source": [
    "from sklearn.preprocessing import StandardScaler\n",
    "scaler = StandardScaler()\n",
    "train_x_reshaped = X_train_feature.reshape(-1, X_train_feature.shape[-1])\n",
    "scaler.fit(train_x_reshaped)\n",
    "train_x_standardized = scaler.transform(train_x_reshaped)\n",
    "train_x_standardized = np.round(train_x_standardized.reshape(X_train_feature.shape), 2)\n",
    "train_x_standardized = train_x_standardized.reshape(X_train_feature.shape)\n",
    "\n",
    "from sklearn.preprocessing import MinMaxScaler\n",
    "\n",
    "min_max_scaler = MinMaxScaler()\n",
    "train_x_reshaped = train_x_standardized.reshape(-1, X_train_feature.shape[-1])\n",
    "min_max_scaler.fit(train_x_reshaped)\n",
    "train_x_normalized = min_max_scaler.transform(train_x_reshaped)\n",
    "train_x_normalized = np.round(train_x_normalized.reshape(X_train_feature.shape), 2)\n",
    "train_x_normalized = train_x_normalized.reshape(X_train_feature.shape)\n",
    "print(train_x_normalized.shape)"
   ],
   "metadata": {
    "collapsed": false
   },
   "id": "5176826e6d7a8463"
  },
  {
   "cell_type": "code",
   "execution_count": null,
   "outputs": [],
   "source": [
    "expanded_arrays = train_df['OneHot'].apply(lambda x: np.array(x))\n",
    "X_train = np.array(expanded_arrays.tolist())\n",
    "y_train = train_df['label']\n",
    "X_train = np.concatenate((X_train, train_x_normalized),axis = 2)"
   ],
   "metadata": {
    "collapsed": false
   },
   "id": "2d93385f5527b69d"
  },
  {
   "cell_type": "code",
   "execution_count": null,
   "outputs": [],
   "source": [
    "from keras.models import load_model\n",
    "model = load_model('./check_point/stage_one.h5')\n",
    "model.summary()"
   ],
   "metadata": {
    "collapsed": false
   },
   "id": "4be5a33064944642"
  },
  {
   "cell_type": "code",
   "execution_count": null,
   "outputs": [],
   "source": [
    "from keras.models import Model\n",
    "intermediate_layer_model = Model(inputs=model.input,\n",
    "                                 outputs=model.get_layer('dense_322').output)\n",
    "intermediate_output = intermediate_layer_model.predict(X_train)\n",
    "print(intermediate_output.shape)\n",
    "intermediate_output = intermediate_output.reshape(1138, 8)\n",
    "# intermediate_output = intermediate_output.reshape(284, 8)\n",
    "\n",
    "out_df = pd.DataFrame(intermediate_output)\n",
    "out_df.to_csv('./phy_chem_train_dense_output.csv', index=False)\n",
    "# out_df.to_csv('./phy_chem_test_dense_output.csv', index=False)"
   ],
   "metadata": {
    "collapsed": false
   },
   "id": "106cb66421b815a5"
  }
 ],
 "metadata": {
  "kernelspec": {
   "display_name": "Python 3",
   "language": "python",
   "name": "python3"
  },
  "language_info": {
   "codemirror_mode": {
    "name": "ipython",
    "version": 2
   },
   "file_extension": ".py",
   "mimetype": "text/x-python",
   "name": "python",
   "nbconvert_exporter": "python",
   "pygments_lexer": "ipython2",
   "version": "2.7.6"
  }
 },
 "nbformat": 4,
 "nbformat_minor": 5
}
